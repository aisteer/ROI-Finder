{
 "cells": [
  {
   "cell_type": "markdown",
   "id": "db3f3239",
   "metadata": {},
   "source": [
    "# Plot the segmentation masks for paper"
   ]
  },
  {
   "cell_type": "code",
   "execution_count": 1,
   "id": "a12f99b7",
   "metadata": {},
   "outputs": [],
   "source": [
    "import beamtime_config_2022\n",
    "from beamtime_config_2022 import *\n",
    "\n",
    "from sklearn.decomposition import PCA\n",
    "from sklearn.preprocessing import StandardScaler\n",
    "from sklearn.cluster import KMeans\n",
    "\n",
    "from matplotlib import rc\n",
    "from matplotlib.widgets import LassoSelector\n",
    "from matplotlib.path import Path\n",
    "import seaborn as sns\n",
    "\n",
    "import xrf_roif_2022\n",
    "\n",
    "from xrf_roif_2022 import *\n",
    "\n",
    "import xrfm_batches\n",
    "from xrfm_batches import *\n",
    "\n",
    "import fuzzy_kmeans_engine\n",
    "from fuzzy_kmeans_engine import _format_soft_km_axes, soft_clustering_weights\n",
    "\n",
    "%matplotlib inline\n",
    "\n",
    "from skimage.filters import sobel,scharr,prewitt"
   ]
  },
  {
   "cell_type": "code",
   "execution_count": 2,
   "id": "f8f53485",
   "metadata": {},
   "outputs": [
    {
     "name": "stdout",
     "output_type": "stream",
     "text": [
      "XRF /data02/AZC/March_2022_XRF_Data/bnp_fly0032.mda.h5\n",
      "['Cu', 'Zn', 'Ca', 'K', 'P', 'S', 'Fe', 'Ni', 'Total_Fluorescence_Yield']\n",
      "(41, 14)\n",
      "XRF /data02/AZC/March_2022_XRF_Data/bnp_fly0042.mda.h5\n",
      "['Cu', 'Zn', 'Ca', 'K', 'P', 'S', 'Fe', 'Ni', 'Total_Fluorescence_Yield']\n",
      "(36, 14)\n",
      "XRF /data02/AZC/March_2022_XRF_Data/bnp_fly0043.mda.h5\n",
      "['Cu', 'Zn', 'Ca', 'K', 'P', 'S', 'Fe', 'Ni', 'Total_Fluorescence_Yield']\n",
      "(17, 14)\n",
      "XRF /data02/AZC/March_2022_XRF_Data/bnp_fly0073.mda.h5\n",
      "['Cu', 'Zn', 'Ca', 'K', 'P', 'S', 'Fe', 'Ni', 'Total_Fluorescence_Yield']\n",
      "(19, 14)\n",
      "XRF /data02/AZC/March_2022_XRF_Data/bnp_fly0082.mda.h5\n",
      "['Cu', 'Zn', 'Ca', 'K', 'P', 'S', 'Fe', 'Ni', 'Total_Fluorescence_Yield']\n",
      "(11, 14)\n",
      "XRF /data02/AZC/March_2022_XRF_Data/bnp_fly0102.mda.h5\n",
      "['Cu', 'Zn', 'Ca', 'K', 'P', 'S', 'Fe', 'Ni', 'Total_Fluorescence_Yield']\n",
      "(18, 14)\n",
      "XRF /data02/AZC/March_2022_XRF_Data/bnp_fly0103.mda.h5\n",
      "['Cu', 'Zn', 'Ca', 'K', 'P', 'S', 'Fe', 'Ni', 'Total_Fluorescence_Yield']\n",
      "(16, 14)\n",
      "XRF /data02/AZC/March_2022_XRF_Data/bnp_fly0104.mda.h5\n",
      "['Cu', 'Zn', 'Ca', 'K', 'P', 'S', 'Fe', 'Ni', 'Total_Fluorescence_Yield']\n",
      "(17, 14)\n",
      "Bounding box width and height (pixels): 32\n",
      "Total extracted cells, features: (175, 14)\n",
      "Total extracted cell, cell size: (175, 32, 32)\n"
     ]
    },
    {
     "name": "stderr",
     "output_type": "stream",
     "text": [
      "/data02/AZC/ROI-Finder/flx_workflows/xrf_roif_2022.py:106: RuntimeWarning: divide by zero encountered in true_divide\n",
      "  xrfdata[e].append(xrf[chidx]/norm)\n",
      "/data02/AZC/ROI-Finder/flx_workflows/xrf_roif_2022.py:106: RuntimeWarning: invalid value encountered in true_divide\n",
      "  xrfdata[e].append(xrf[chidx]/norm)\n"
     ]
    }
   ],
   "source": [
    "BASE_PATCH_WIDTH=32\n",
    "selected_elm_maps=['Cu','Zn','Ca', 'K', 'P', 'S','Fe','Ni','Total_Fluorescence_Yield']\n",
    "noise_type='none'\n",
    "base_file_path = '/data02/AZC/March_2022_XRF_Data/'\n",
    "\n",
    "\n",
    "# coarse_scan_names = ['bnp_fly0032.mda.h5']\n",
    "\n",
    "\n",
    "coarse_scan_names = ['bnp_fly0032.mda.h5', \n",
    "                    'bnp_fly0042.mda.h5',\n",
    "                    'bnp_fly0043.mda.h5',\n",
    "                    'bnp_fly0073.mda.h5',\n",
    "                    'bnp_fly0082.mda.h5',\n",
    "                    'bnp_fly0102.mda.h5',\n",
    "                    'bnp_fly0103.mda.h5',\n",
    "                    'bnp_fly0104.mda.h5']\n",
    "\n",
    "\n",
    "# 'bnp_fly0050.mda.h5',\n",
    "#                     'bnp_fly0051.mda.h5']\n",
    "\n",
    "\n",
    "\n",
    "hdf5_string_list=['MAPS','MAPS','MAPS','MAPS','MAPS','MAPS','MAPS','MAPS']\n",
    "norm_ch_list=['US_IC','US_IC','US_IC','US_IC','US_IC','US_IC','US_IC','US_IC']\n",
    "selected_elm_maps_list=[selected_elm_maps,selected_elm_maps,selected_elm_maps,selected_elm_maps,selected_elm_maps,selected_elm_maps,selected_elm_maps,selected_elm_maps]\n",
    "noise_type_list = [noise_type,noise_type,noise_type,noise_type,noise_type,noise_type,noise_type,noise_type]\n",
    "# bin_conv_elm_list=['P', 'P', 'P', 'P', 'P', 'P', 'P', 'P']\n",
    "bin_conv_elm_list=['KPSCa', 'KPSCa', 'KPSCa', 'KPSCa', 'KPSCa', 'KPSCa', 'KPSCa', 'KPSCa']\n",
    "apply_gausssian_list=[False, False, False, False,False,False,False,False]\n",
    "value_offset_list = [1e-12,1e-12,1e-12,1e-12,1e-12,1e-12,1e-12,1e-12]\n",
    "\n",
    "BASE_PATCH_WIDTH=32\n",
    "\n",
    "\n",
    "\n",
    "coarse_scans = XRFM_batch(base_file_path,\n",
    "                  coarse_scan_names,\n",
    "                 hdf5_string_list,\n",
    "                 norm_ch_list,\n",
    "                 selected_elm_maps_list,\n",
    "                 noise_type_list,\n",
    "                 bin_conv_elm_list,\n",
    "                 value_offset_list,\n",
    "                apply_gausssian_list,\n",
    "                 BASE_PATCH_WIDTH,\n",
    "                 print_pv=False,  \n",
    "                 verbosity=False)\n",
    "\n",
    "print('Bounding box width and height (pixels):' , BASE_PATCH_WIDTH)\n",
    "print('Total extracted cells, features:', coarse_scans.X.shape)\n",
    "print('Total extracted cell, cell size:', coarse_scans.X_bin.shape)\n",
    "\n"
   ]
  },
  {
   "cell_type": "code",
   "execution_count": 3,
   "id": "c5bfe9c5",
   "metadata": {},
   "outputs": [
    {
     "ename": "NameError",
     "evalue": "name 'img_seg_mask' is not defined",
     "output_type": "error",
     "traceback": [
      "\u001b[0;31m---------------------------------------------------------------------------\u001b[0m",
      "\u001b[0;31mNameError\u001b[0m                                 Traceback (most recent call last)",
      "Input \u001b[0;32mIn [3]\u001b[0m, in \u001b[0;36m<cell line: 1>\u001b[0;34m()\u001b[0m\n\u001b[1;32m      1\u001b[0m sobel_mag \u001b[38;5;241m=\u001b[39m np\u001b[38;5;241m.\u001b[39msqrt(\u001b[38;5;28msum\u001b[39m([sobel(img_seg_mask, axis\u001b[38;5;241m=\u001b[39mi)\u001b[38;5;241m*\u001b[39m\u001b[38;5;241m*\u001b[39m\u001b[38;5;241m2\u001b[39m\n\u001b[0;32m----> 2\u001b[0m                          \u001b[38;5;28;01mfor\u001b[39;00m i \u001b[38;5;129;01min\u001b[39;00m \u001b[38;5;28mrange\u001b[39m(\u001b[43mimg_seg_mask\u001b[49m\u001b[38;5;241m.\u001b[39mndim)]) \u001b[38;5;241m/\u001b[39m img_seg_mask\u001b[38;5;241m.\u001b[39mndim)\n\u001b[1;32m      3\u001b[0m plt\u001b[38;5;241m.\u001b[39mfigure(dpi\u001b[38;5;241m=\u001b[39m\u001b[38;5;241m200\u001b[39m)\n\u001b[1;32m      4\u001b[0m plt\u001b[38;5;241m.\u001b[39mimshow(sobel_mag)\n",
      "\u001b[0;31mNameError\u001b[0m: name 'img_seg_mask' is not defined"
     ]
    }
   ],
   "source": [
    "sobel_mag = np.sqrt(sum([sobel(img_seg_mask, axis=i)**2\n",
    "                         for i in range(img_seg_mask.ndim)]) / img_seg_mask.ndim)\n",
    "plt.figure(dpi=200)\n",
    "plt.imshow(sobel_mag)\n",
    "plt.imshow(img_seg_mask, cmap = 'copper', alpha = 0.3)\n",
    "plt.colorbar(orientation='horizontal', shrink=0.5)\n",
    "plt.title(coarse_scan_names[idx])\n",
    "plt.gca().invert_yaxis() "
   ]
  },
  {
   "cell_type": "code",
   "execution_count": 33,
   "id": "a58cad9c",
   "metadata": {},
   "outputs": [
    {
     "data": {
      "image/png": "[encoded data removed]",
      "text/plain": [
       "<Figure size 1200x800 with 1 Axes>"
      ]
     },
     "metadata": {},
     "output_type": "display_data"
    }
   ],
   "source": [
    "idx = 7\n",
    "img=coarse_scans.X_d_K[idx]+coarse_scans.X_d_P[idx]+coarse_scans.X_d_S[idx]+coarse_scans.X_d_Ca[idx]\n",
    "# img=coarse_scans.X_d_P[idx]\n",
    "\n",
    "img_seg_mask = coarse_scans.X_binary_ero_dil[idx]\n",
    "img_normalized = (255*((img - img.min()) / (img.max() - img.min()))).astype(np.uint8)\n",
    "img_RGB = np.concatenate([img_normalized[...,np.newaxis]]*3, axis = -1)\n",
    "\n",
    "img_sobel = prewitt(np.copy(img_seg_mask))\n",
    "img_sobel = (img_sobel - img_sobel.min()) / (img_sobel.max() - img_sobel.min())\n",
    "img_sobel = (255*np.round(img_sobel)).astype(np.uint8)\n",
    "\n",
    "img_RGB[img_sobel == 255] = [0,0,255]\n",
    "\n",
    "sobel_mag = np.sqrt(sum([sobel(img_seg_mask, axis=i)**2\n",
    "                         for i in range(img_seg_mask.ndim)]) / img_seg_mask.ndim)\n",
    "# sobel_mag = (255*np.round(sobel_mag)).astype(np.uint8)\n",
    "\n",
    "# sobel_mag = sobel_mag.astype(np.uint8)\n",
    "plt.figure(dpi=200)\n",
    "# plt.imshow(img_RGB)\n",
    "# img_RGB[sobel_mag == 255] = [0,0,255]\n",
    "\n",
    "# plt.imshow(sobel_mag)\n",
    "plt.imshow(sobel_mag,cmap='Blues_r',alpha = 0.3)\n",
    "\n",
    "plt.imshow(img_seg_mask, cmap = 'copper', alpha = 0.7)\n",
    "# plt.colorbar(orientation='horizontal', shrink=0.5)\n",
    "plt.xticks(ticks=[])\n",
    "plt.yticks(ticks=[])\n",
    "\n",
    "# plt.title(coarse_scan_names[idx])\n",
    "plt.title('coarse scan: ' + str(idx+1))\n",
    "plt.gca().invert_yaxis()   \n"
   ]
  },
  {
   "cell_type": "code",
   "execution_count": 56,
   "id": "bfe1edd2",
   "metadata": {},
   "outputs": [
    {
     "data": {
      "text/plain": [
       "(149, 321)"
      ]
     },
     "execution_count": 56,
     "metadata": {},
     "output_type": "execute_result"
    }
   ],
   "source": [
    "sobel_mag"
   ]
  },
  {
   "cell_type": "code",
   "execution_count": 37,
   "id": "c5cc1066",
   "metadata": {},
   "outputs": [
    {
     "data": {
      "image/png": "[encoded data removed]",
      "text/plain": [
       "<Figure size 432x288 with 1 Axes>"
      ]
     },
     "metadata": {},
     "output_type": "display_data"
    }
   ],
   "source": [
    "idx=3\n",
    "plt.imshow(coarse_scans.X_bin[idx], cmap = 'copper', alpha = 0.7)\n",
    "# plt.colorbar(orientation='horizontal', shrink=0.5)\n",
    "plt.xticks(ticks=[])\n",
    "plt.yticks(ticks=[])\n",
    "\n",
    "# plt.title(coarse_scan_names[idx])\n",
    "plt.title('coarse scan: ' + str(idx+1))\n",
    "plt.gca().invert_yaxis()   \n"
   ]
  },
  {
   "cell_type": "code",
   "execution_count": null,
   "id": "45c362c2",
   "metadata": {},
   "outputs": [],
   "source": []
  }
 ],
 "metadata": {
  "kernelspec": {
   "display_name": "Python 3 (ipykernel)",
   "language": "python",
   "name": "python3"
  },
  "language_info": {
   "codemirror_mode": {
    "name": "ipython",
    "version": 3
   },
   "file_extension": ".py",
   "mimetype": "text/x-python",
   "name": "python",
   "nbconvert_exporter": "python",
   "pygments_lexer": "ipython3",
   "version": "3.9.11"
  }
 },
 "nbformat": 4,
 "nbformat_minor": 5
}
